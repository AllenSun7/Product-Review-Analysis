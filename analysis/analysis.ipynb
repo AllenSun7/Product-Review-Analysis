{
 "nbformat": 4,
 "nbformat_minor": 2,
 "metadata": {
  "language_info": {
   "name": "python",
   "codemirror_mode": {
    "name": "ipython",
    "version": 3
   },
   "version": "3.7.6-final"
  },
  "orig_nbformat": 2,
  "file_extension": ".py",
  "mimetype": "text/x-python",
  "name": "python",
  "npconvert_exporter": "python",
  "pygments_lexer": "ipython3",
  "version": 3,
  "kernelspec": {
   "name": "python37664bitvenvvenv1e71fd8304f446089ee1aab015f946bb",
   "display_name": "Python 3.7.6 64-bit ('venv': venv)"
  }
 },
 "cells": [
  {
   "cell_type": "code",
   "execution_count": 78,
   "metadata": {},
   "outputs": [],
   "source": [
    "# Importing libraries\n",
    "import numpy as np\n",
    "import pandas as pd\n",
    "import matplotlib.pyplot as plt\n",
    "import seaborn as sns\n",
    "\n",
    "# Set up matplotlib style \n",
    "plt.style.use('ggplot')\n",
    "\n",
    "# Libraries for wordcloud making and image importing\n",
    "from wordcloud import WordCloud, ImageColorGenerator\n",
    "from PIL import Image\n",
    "\n",
    "# And libraries for data transformation\n",
    "import datetime\n",
    "from string import punctuation\n",
    "\n",
    "#words counter\n",
    "from collections import Counter\n",
    "import re\n",
    "from nltk.corpus import stopwords\n",
    "from nltk.stem.porter import PorterStemmer\n",
    "import spacy\n",
    "from nltk.tokenize import word_tokenize \n",
    "\n",
    "#model\n",
    "from sklearn.feature_extraction.text import CountVectorizer\n",
    "from sklearn.model_selection import train_test_split\n",
    "from sklearn.feature_selection import SelectKBest\n",
    "from sklearn.feature_selection import chi2\n",
    "from sklearn.feature_extraction.text import TfidfVectorizer\n",
    "from sklearn.feature_extraction.text import TfidfTransformer\n",
    "from sklearn import metrics\n",
    "from sklearn.naive_bayes import MultinomialNB\n",
    "from sklearn.ensemble import RandomForestClassifier\n",
    "from sklearn.model_selection import GridSearchCV\n",
    "from itertools import compress\n",
    "import eli5\n",
    "from eli5.sklearn import PermutationImportance\n",
    "from sklearn.tree import DecisionTreeClassifier\n",
    "from sklearn import tree\n",
    "import graphviz\n",
    "from matplotlib import pyplot as plt\n",
    "from pdpbox import pdp, get_dataset, info_plots\n",
    "import shap\n"
   ]
  },
  {
   "cell_type": "code",
   "execution_count": null,
   "metadata": {},
   "outputs": [],
   "source": [
    "#import data\n",
    "data = pd.read_csv('../out/google_homemini450.csv')\n",
    "data.info()\n",
    "# Data overlook\n",
    "data.head()"
   ]
  },
  {
   "cell_type": "code",
   "execution_count": null,
   "metadata": {},
   "outputs": [],
   "source": [
    "# Transform string data and remove punctuation\n",
    "data['verified_reviews'] = data.verified_reviews.apply(lambda x: str(x).lower())\n",
    "data['verified_reviews'] = data.verified_reviews.apply(lambda x: ''.join([c for c in x if c not in punctuation]))"
   ]
  },
  {
   "cell_type": "code",
   "execution_count": null,
   "metadata": {},
   "outputs": [],
   "source": [
    "# Get length of review for EDA\n",
    "data['review_length'] = data.verified_reviews.apply(lambda x: len(x))"
   ]
  },
  {
   "cell_type": "code",
   "execution_count": null,
   "metadata": {},
   "outputs": [],
   "source": [
    "# Check the data again\n",
    "data.head()"
   ]
  },
  {
   "cell_type": "code",
   "execution_count": null,
   "metadata": {},
   "outputs": [],
   "source": [
    "# Take a look at the mean, standard deviation, and maximum\n",
    "print('The mean for the length of review:',data['review_length'].mean())\n",
    "print('The standard deviation for the length of reviews:',data['review_length'].std())\n",
    "print('The maximum for the length of reviews:',data['review_length'].max())"
   ]
  },
  {
   "cell_type": "code",
   "execution_count": null,
   "metadata": {},
   "outputs": [],
   "source": [
    "# And take a look at the distribution of the length\n",
    "data['review_length'].hist(bins=20)\n",
    "plt.title('Distribution of review length')"
   ]
  },
  {
   "cell_type": "code",
   "execution_count": null,
   "metadata": {},
   "outputs": [],
   "source": [
    "#words cloud of most comman words \n",
    "A = np.array(Image.open('../in/google_homemini.png'))\n",
    "np.random.seed(321)\n",
    "sns.set(rc={'figure.figsize':(8,8)})\n",
    "reviews = ' '.join(data['verified_reviews'].tolist())\n",
    "\n",
    "wordcloud = WordCloud(mask=A,background_color=\"white\").generate(reviews)\n",
    "plt.figure()\n",
    "plt.imshow(wordcloud, interpolation=\"bilinear\")\n",
    "plt.axis(\"off\")\n",
    "plt.margins(x=0, y=0)\n",
    "plt.title('Reviews',size=20)\n",
    "plt.show()"
   ]
  },
  {
   "cell_type": "code",
   "execution_count": null,
   "metadata": {},
   "outputs": [],
   "source": [
    "#reviews on shops \n",
    "sns.set(rc={'figure.figsize':(10,6)})\n",
    "sns.countplot(data.shop,\n",
    "              order = data['shop'].value_counts().index)\n",
    "plt.xticks(rotation=90)\n",
    "plt.title('Counts of each shops')"
   ]
  },
  {
   "cell_type": "code",
   "execution_count": null,
   "metadata": {},
   "outputs": [],
   "source": [
    "import matplotlib.cm as cm\n",
    "\n",
    "#count data rating\n",
    "data.rating.value_counts()\n",
    "#rating pie\n",
    "values = rating.values\n",
    "labels = rating.index\n",
    "explode = (0.1, 0.1, 0.1, 0.1, 0.1)\n",
    "colors = cm.rainbow(np.linspace(0, 1, len(labels)))\n",
    "plt.pie(values, \n",
    "        colors=colors, \n",
    "        labels=labels,\n",
    "        explode=explode, \n",
    "        autopct='%1.1f%%',\n",
    "        counterclock=False,\n",
    "        shadow=True)\n",
    "plt.title('Ratings Pie Chat')\n",
    "plt.show()"
   ]
  },
  {
   "cell_type": "code",
   "execution_count": null,
   "metadata": {},
   "outputs": [],
   "source": [
    "data5 = data[data.rating == 5]\n",
    "data_not_5 = data[data.rating != 5]\n",
    "data1 = data[data.rating == 1]"
   ]
  },
  {
   "cell_type": "code",
   "execution_count": null,
   "metadata": {},
   "outputs": [],
   "source": [
    "#words cloud of most comman words for rating 1-4\n",
    "A = np.array(Image.open('../in/google_homemini.png'))\n",
    "np.random.seed(321)\n",
    "sns.set(rc={'figure.figsize':(8,8)})\n",
    "reviews = ' '.join(data1['verified_reviews'].tolist())\n",
    "\n",
    "wordcloud = WordCloud(mask=A,background_color=\"white\").generate(reviews)\n",
    "plt.figure()\n",
    "plt.imshow(wordcloud, interpolation=\"bilinear\")\n",
    "plt.axis(\"off\")\n",
    "plt.margins(x=0, y=0)\n",
    "plt.title('Reviews',size=20)\n",
    "plt.show()"
   ]
  },
  {
   "cell_type": "code",
   "execution_count": null,
   "metadata": {},
   "outputs": [],
   "source": [
    "#words cloud of most comman words for rating 1-4\n",
    "A = np.array(Image.open('../in/google_homemini.png'))\n",
    "np.random.seed(321)\n",
    "sns.set(rc={'figure.figsize':(8,8)})\n",
    "reviews = ' '.join(data5['verified_reviews'].tolist())\n",
    "\n",
    "wordcloud = WordCloud(mask=A,background_color=\"white\").generate(reviews)\n",
    "plt.figure()\n",
    "plt.imshow(wordcloud, interpolation=\"bilinear\")\n",
    "plt.axis(\"off\")\n",
    "plt.margins(x=0, y=0)\n",
    "plt.title('Reviews',size=20)\n",
    "plt.show()"
   ]
  },
  {
   "cell_type": "code",
   "execution_count": null,
   "metadata": {},
   "outputs": [],
   "source": [
    "#relationship between rating and shop\n",
    "sns.boxplot(data.shop, data.rating)\n",
    "plt.xticks(rotation = 90)"
   ]
  },
  {
   "cell_type": "code",
   "execution_count": null,
   "metadata": {},
   "outputs": [],
   "source": [
    "#relationship between rating and reviews lenth\n",
    "sns.boxplot('rating','review_length',data=data)\n"
   ]
  },
  {
   "cell_type": "code",
   "execution_count": null,
   "metadata": {},
   "outputs": [],
   "source": [
    "data['log_review_length'] = data.review_length.apply(lambda x: (np.log(x)+1))\n"
   ]
  },
  {
   "cell_type": "code",
   "execution_count": null,
   "metadata": {},
   "outputs": [],
   "source": [
    "sns.boxplot('rating','log_review_length',data=data)\n"
   ]
  },
  {
   "cell_type": "code",
   "execution_count": null,
   "metadata": {},
   "outputs": [],
   "source": [
    "sns.boxplot('variation','log_review_length',data=data)\n",
    "plt.xticks(rotation = 90)"
   ]
  },
  {
   "cell_type": "code",
   "execution_count": null,
   "metadata": {},
   "outputs": [],
   "source": []
  }
 ]
}